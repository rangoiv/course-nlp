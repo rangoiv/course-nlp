{
 "cells": [
  {
   "cell_type": "markdown",
   "id": "045f8e8a",
   "metadata": {},
   "source": [
    "# Croatian Sentiment Classification the old-fashioned way: \n",
    "## `Naive Bayes`, (`Logistic Regression`, and `Ngrams`)"
   ]
  },
  {
   "cell_type": "code",
   "execution_count": 1,
   "id": "40b71e08",
   "metadata": {},
   "outputs": [],
   "source": [
    "%reload_ext autoreload\n",
    "%autoreload 2\n",
    "%matplotlib inline\n",
    "\n",
    "from fastai import *\n",
    "from fastai.text import *\n",
    "from fastai.data.all import *\n",
    "import torch\n",
    "from pathlib import Path\n",
    "from fastdownload import download_url \n",
    "from fastai.text.data import *\n",
    "from fastai.text.core import *\n",
    "from fastai.text.all import *"
   ]
  },
  {
   "cell_type": "code",
   "execution_count": 2,
   "id": "613d5e3d",
   "metadata": {},
   "outputs": [],
   "source": [
    "data_path = Path(\"./data/\")\n",
    "lang = 'hr'\n",
    "name = f'{lang}wiki'\n",
    "path = data_path/name\n",
    "path.mkdir(exist_ok=True, parents=True)\n",
    "mdl_path = path/'models'\n",
    "lm_fns = [f'{lang}_wt', f'{lang}_wt_vocab']\n",
    "lm_fns = [os.getcwd()/mdl_path/lm_fns[0], os.getcwd()/mdl_path/lm_fns[1]]"
   ]
  },
  {
   "cell_type": "code",
   "execution_count": 4,
   "id": "91011f83",
   "metadata": {},
   "outputs": [
    {
     "name": "stdout",
     "output_type": "stream",
     "text": [
      "data/hrwiki/docs already exists; not splitting\n"
     ]
    },
    {
     "data": {
      "text/plain": [
       "Path('data/hrwiki/docs')"
      ]
     },
     "execution_count": 4,
     "metadata": {},
     "output_type": "execute_result"
    }
   ],
   "source": [
    "from nlputils import split_wiki,get_wiki\n",
    "docs_path = split_wiki(path, 'hr')\n",
    "docs_path"
   ]
  },
  {
   "cell_type": "code",
   "execution_count": 5,
   "id": "d5de202b",
   "metadata": {},
   "outputs": [
    {
     "data": {
      "text/plain": [
       "True"
      ]
     },
     "execution_count": 5,
     "metadata": {},
     "output_type": "execute_result"
    }
   ],
   "source": [
    "(path/\"filtered\").exists()"
   ]
  },
  {
   "cell_type": "code",
   "execution_count": 18,
   "id": "dad89c17",
   "metadata": {
    "scrolled": true
   },
   "outputs": [
    {
     "name": "stdout",
     "output_type": "stream",
     "text": [
      "2836 708\n"
     ]
    },
    {
     "data": {
      "text/html": [
       "<div>\n",
       "<style scoped>\n",
       "    .dataframe tbody tr th:only-of-type {\n",
       "        vertical-align: middle;\n",
       "    }\n",
       "\n",
       "    .dataframe tbody tr th {\n",
       "        vertical-align: top;\n",
       "    }\n",
       "\n",
       "    .dataframe thead th {\n",
       "        text-align: right;\n",
       "    }\n",
       "</style>\n",
       "<table border=\"1\" class=\"dataframe\">\n",
       "  <thead>\n",
       "    <tr style=\"text-align: right;\">\n",
       "      <th></th>\n",
       "      <th>0</th>\n",
       "      <th>1</th>\n",
       "    </tr>\n",
       "  </thead>\n",
       "  <tbody>\n",
       "    <tr>\n",
       "      <th>0</th>\n",
       "      <td>False</td>\n",
       "      <td>Čekali smo konobara 15 min da bi napokon došao i rekao da nema gotovo ničega od dnevne ponude gableca, na što smo ga zamolili da donese jelovnik koji nije stigao niti nakon 10 min. Loša organizacija.</td>\n",
       "    </tr>\n",
       "    <tr>\n",
       "      <th>1</th>\n",
       "      <td>False</td>\n",
       "      <td>Koktelima baš nisam bila zadovoljna, ali hrana jako dobra. Usluga bi mogla biti brža.</td>\n",
       "    </tr>\n",
       "    <tr>\n",
       "      <th>2</th>\n",
       "      <td>True</td>\n",
       "      <td>Konoba Galija oduševljava svojim raznovrsnim jelovnikom u svako doba godine, a pritom ukusno pripremljenom hranom,  savršenim desertima te ljubaznim osobljem..Moram izdvojiti predjelo Pjat s plodovima mora koje je, osim ukusno, predivno servirano za one koje cijene i estetiku. Naravno da je i u tom stilu i glavno jelo.Slavonka koja će se s obitelji uvijek vratiti ovoj konobi 🤗🤗</td>\n",
       "    </tr>\n",
       "    <tr>\n",
       "      <th>3</th>\n",
       "      <td>False</td>\n",
       "      <td>Naručili smo tunu s blitvom i krumpirom.Tuna je bila dosta slana pa smo rekli osoblju.Bila je u umaku od soje.Jedina zamjerka bi bila kad smo tražili preporuku da nam je osoblje reklo da je u umaku od soje.To nam ne odgovora jer sa grila nam je tuna s maslin.uljem.Osoblje je bilo brzo i ljubazno.</td>\n",
       "    </tr>\n",
       "    <tr>\n",
       "      <th>4</th>\n",
       "      <td>True</td>\n",
       "      <td>Jedan od najboljih kebaba u gradu. Isplate se te dvije kune koliko je skuplji.</td>\n",
       "    </tr>\n",
       "  </tbody>\n",
       "</table>\n",
       "</div>"
      ],
      "text/plain": [
       "       0  \\\n",
       "0  False   \n",
       "1  False   \n",
       "2   True   \n",
       "3  False   \n",
       "4   True   \n",
       "\n",
       "                                                                                                                                                                                                                                                                                                                                                                                              1  \n",
       "0                                                                                                                                                                                       Čekali smo konobara 15 min da bi napokon došao i rekao da nema gotovo ničega od dnevne ponude gableca, na što smo ga zamolili da donese jelovnik koji nije stigao niti nakon 10 min. Loša organizacija.  \n",
       "1                                                                                                                                                                                                                                                                                                         Koktelima baš nisam bila zadovoljna, ali hrana jako dobra. Usluga bi mogla biti brža.  \n",
       "2  Konoba Galija oduševljava svojim raznovrsnim jelovnikom u svako doba godine, a pritom ukusno pripremljenom hranom,  savršenim desertima te ljubaznim osobljem..Moram izdvojiti predjelo Pjat s plodovima mora koje je, osim ukusno, predivno servirano za one koje cijene i estetiku. Naravno da je i u tom stilu i glavno jelo.Slavonka koja će se s obitelji uvijek vratiti ovoj konobi 🤗🤗  \n",
       "3                                                                                     Naručili smo tunu s blitvom i krumpirom.Tuna je bila dosta slana pa smo rekli osoblju.Bila je u umaku od soje.Jedina zamjerka bi bila kad smo tražili preporuku da nam je osoblje reklo da je u umaku od soje.To nam ne odgovora jer sa grila nam je tuna s maslin.uljem.Osoblje je bilo brzo i ljubazno.  \n",
       "4                                                                                                                                                                                                                                                                                                                Jedan od najboljih kebaba u gradu. Isplate se te dvije kune koliko je skuplji.  "
      ]
     },
     "execution_count": 18,
     "metadata": {},
     "output_type": "execute_result"
    }
   ],
   "source": [
    "train_df = pd.read_csv(path/'train.csv')\n",
    "test_df = pd.read_csv(path/'test.csv')\n",
    "df = pd.concat([train_df,test_df], sort=False)\n",
    "print(len(train_df), len(test_df))\n",
    "test_df.head()"
   ]
  },
  {
   "cell_type": "code",
   "execution_count": 112,
   "id": "51ae9535",
   "metadata": {},
   "outputs": [
    {
     "data": {
      "text/html": [
       "\n",
       "<style>\n",
       "    /* Turns off some styling */\n",
       "    progress {\n",
       "        /* gets rid of default border in Firefox and Opera. */\n",
       "        border: none;\n",
       "        /* Needs to be in here for Safari polyfill so background images work as expected. */\n",
       "        background-size: auto;\n",
       "    }\n",
       "    progress:not([value]), progress:not([value])::-webkit-progress-bar {\n",
       "        background: repeating-linear-gradient(45deg, #7e7e7e, #7e7e7e 10px, #5c5c5c 10px, #5c5c5c 20px);\n",
       "    }\n",
       "    .progress-bar-interrupted, .progress-bar-interrupted::-webkit-progress-bar {\n",
       "        background: #F44336;\n",
       "    }\n",
       "</style>\n"
      ],
      "text/plain": [
       "<IPython.core.display.HTML object>"
      ]
     },
     "metadata": {},
     "output_type": "display_data"
    },
    {
     "data": {
      "text/html": [],
      "text/plain": [
       "<IPython.core.display.HTML object>"
      ]
     },
     "metadata": {},
     "output_type": "display_data"
    }
   ],
   "source": [
    "tok = SentencePieceTokenizer(special_toks=[], lang='hr')\n",
    "dls = TextDataLoaders.from_df(train_df, valid_pct=0.2, \n",
    "                              is_lm=False, \n",
    "                              bs=64, \n",
    "                              text_col=1,\n",
    "                              label_col=0,\n",
    "                             )"
   ]
  },
  {
   "cell_type": "code",
   "execution_count": 119,
   "id": "a5f50bc7",
   "metadata": {},
   "outputs": [
    {
     "data": {
      "text/plain": [
       "dict_items([(2, 1), (8, 1), (14, 1), (12, 1), (32, 1), (9, 2), (18, 1), (133, 1), (45, 1), (29, 1), (10, 1)])"
      ]
     },
     "execution_count": 119,
     "metadata": {},
     "output_type": "execute_result"
    }
   ],
   "source": [
    "TokenCounter = lambda review_index : Counter((dls.train_ds)[review_index][0].tolist())\n",
    "TokenCounter(39).items()"
   ]
  },
  {
   "cell_type": "code",
   "execution_count": 242,
   "id": "f3954ab9",
   "metadata": {},
   "outputs": [],
   "source": [
    "itos = dls.vocab[0]\n"
   ]
  },
  {
   "cell_type": "code",
   "execution_count": 142,
   "id": "156ba18c",
   "metadata": {},
   "outputs": [
    {
     "data": {
      "text/plain": [
       "2269"
      ]
     },
     "execution_count": 142,
     "metadata": {},
     "output_type": "execute_result"
    }
   ],
   "source": [
    "n_terms = len(dls.vocab[0])\n",
    "n_docs = len(dls.train_ds)\n",
    "make_token_counter = lambda review_index : Counter((dls.train_ds)[review_index][0].tolist())\n",
    "def count_vectorizer(review_index,n_terms = n_terms,make_token_counter = make_token_counter):\n",
    "    # input: review index, n_terms, and tokenizer function\n",
    "    # output: embedding vector for the review\n",
    "    embedding_vector = np.zeros(n_terms)        \n",
    "    keys = list(make_token_counter(review_index).keys())\n",
    "    values = list(make_token_counter(review_index).values())\n",
    "    embedding_vector[keys] = values\n",
    "    return embedding_vector\n",
    "\n",
    "# make the embedding vector for the first review\n",
    "embedding_vector = count_vectorizer(0)\n",
    "n_docs"
   ]
  },
  {
   "cell_type": "code",
   "execution_count": 143,
   "id": "9d694e35",
   "metadata": {},
   "outputs": [
    {
     "name": "stdout",
     "output_type": "stream",
     "text": [
      "The review is embedded in a 2544 dimensional vector\n"
     ]
    },
    {
     "data": {
      "text/plain": [
       "array([16.,  0.,  1., ...,  0.,  0.,  0.])"
      ]
     },
     "execution_count": 143,
     "metadata": {},
     "output_type": "execute_result"
    }
   ],
   "source": [
    "print(f'The review is embedded in a {len(embedding_vector)} dimensional vector')\n",
    "embedding_vector"
   ]
  },
  {
   "cell_type": "code",
   "execution_count": 144,
   "id": "a08fecb9",
   "metadata": {},
   "outputs": [
    {
     "name": "stdout",
     "output_type": "stream",
     "text": [
      "there are 2269 reviews, and 2544 unique tokens in the vocabulary\n"
     ]
    }
   ],
   "source": [
    "# Define a function to build the full document-term matrix\n",
    "print(f'there are {n_docs} reviews, and {n_terms} unique tokens in the vocabulary')\n",
    "def make_full_doc_term_matrix(count_vectorizer,n_terms=n_terms,n_docs=n_docs):\n",
    "    \n",
    "    # loop through the movie reviews\n",
    "    for doc_index in range(n_docs):\n",
    "        \n",
    "        # make the embedding vector for the current review\n",
    "        embedding_vector = count_vectorizer(doc_index,n_terms)    \n",
    "            \n",
    "        # append the embedding vector to the document-term matrix\n",
    "        if(doc_index == 0):\n",
    "            A = embedding_vector\n",
    "        else:\n",
    "            A = np.vstack((A,embedding_vector))\n",
    "            \n",
    "    # return the document-term matrix\n",
    "    return A\n",
    "\n",
    "# Build the full document term matrix for the movie_reviews training set\n",
    "A = make_full_doc_term_matrix(count_vectorizer)"
   ]
  },
  {
   "cell_type": "code",
   "execution_count": 145,
   "id": "6e732229",
   "metadata": {},
   "outputs": [
    {
     "name": "stdout",
     "output_type": "stream",
     "text": [
      "Only 46005 of the 5772336 elements in the document-term matrix are nonzero\n",
      "The sparsity of the document-term matrix is 0.9920300897245067\n"
     ]
    },
    {
     "data": {
      "text/plain": [
       "array([[16.,  0.,  1., ...,  0.,  0.,  0.],\n",
       "       [ 1.,  0.,  1., ...,  0.,  0.,  0.],\n",
       "       [ 4.,  0.,  1., ...,  0.,  0.,  0.],\n",
       "       ...,\n",
       "       [ 5.,  0.,  1., ...,  0.,  0.,  0.],\n",
       "       [ 6.,  0.,  1., ...,  0.,  0.,  0.],\n",
       "       [ 0.,  0.,  1., ...,  0.,  0.,  0.]])"
      ]
     },
     "execution_count": 145,
     "metadata": {},
     "output_type": "execute_result"
    }
   ],
   "source": [
    "NNZ = np.count_nonzero(A)\n",
    "sparsity = (A.size-NNZ)/A.size\n",
    "print(f'Only {NNZ} of the {A.size} elements in the document-term matrix are nonzero')\n",
    "print(f'The sparsity of the document-term matrix is {sparsity}')\n",
    "A"
   ]
  },
  {
   "cell_type": "code",
   "execution_count": 148,
   "id": "378da47e",
   "metadata": {},
   "outputs": [
    {
     "name": "stdout",
     "output_type": "stream",
     "text": [
      "xxbos xxmaj ambijent je ugodan , pogled na more sa xxunk xxunk je xxunk . xxmaj osoblje je susretljivo te uvijek stoje na xxunk , vlasnik je ugodan i xxunk . xxmaj hrana je zaista izvrsna , meso je uvijek pečeno onako kako se xxunk da bude . xxmaj xxunk jela i ostali plodovi mora su jako ukusni i uvijek xxunk topla preporuka svima koji žele dobro pojesti uz sasvim xxunk cijene . xxmaj takoder obavezno narucite juhu od xxunk kao toplo predjelo , bez obzira xxunk li ostati na xxunk ili xxunk xxunk za glavno xxunk xxunk kad smo u blizini . "
     ]
    }
   ],
   "source": [
    "for i in dls.train_ds[0][0]:\n",
    "    print(dls.vocab[0][i], end= \" \")"
   ]
  },
  {
   "cell_type": "markdown",
   "id": "20c33e34",
   "metadata": {},
   "source": [
    "## Naivni Bayesov klasifikator"
   ]
  },
  {
   "cell_type": "markdown",
   "id": "42f2a27f",
   "metadata": {},
   "source": [
    "<!-- #### Then, given the knowledge that a review is classified as `positive`, the `conditional likelihood` that a token $t$ will appear in the review is -->\n",
    "### $ L(t|+) = \\frac{C^{+}_{t}}{N^+}$,  $ L(t|-) = \\frac{C^{-}_{t}}{N^-}$, $ R_{t} = \\text{log} \\frac{L(t|+)}  {L(t|-)}$\n",
    "<!-- #### and simlarly, the `conditional likelihood` of a token appearing in a `negative` review is  -->\n",
    "\n",
    "<!-- #### From the class likelihood ratios, we can define a **log-count ratio** $R_{t}$ for each token $t$ as -->\n",
    "<!-- ###  -->\n",
    "<!-- #### The `log-count ratio` ranks tokens by their relative affinities for positive and negative reviews -->\n",
    "<!-- #### We observe that\n",
    "* $R_{t} \\gt 0$ means `positive` reviews are more likely to contain this token \n",
    "* $R_{t} \\lt 0$ means `negative` reviews are more likely to contain this token \n",
    "* $R_{t} = 0$ indicates the token $t$ has equal likelihood to appear in  `positive` and `negative` reviews -->"
   ]
  },
  {
   "cell_type": "markdown",
   "id": "8124dc6c",
   "metadata": {},
   "source": [
    "#### The log probability ratio is\n",
    "\n",
    "### $b = \\text{log} \\frac{p} {q}$ \n",
    "\n",
    "<!-- #### is a measure of the `bias`, or `imbalance` in the data set. \n",
    "\n",
    "* $b = 0$ indicates a perfectly balanced data set\n",
    "* $b \\gt 0$ indicates bias towards `positive` reviews \n",
    "* $b \\lt 0$ indicates bias towards `negative` reviews  -->"
   ]
  },
  {
   "cell_type": "code",
   "execution_count": 210,
   "id": "923e33fd",
   "metadata": {},
   "outputs": [
    {
     "data": {
      "text/plain": [
       "array([0, 0, 0, ..., 0, 0, 0])"
      ]
     },
     "execution_count": 210,
     "metadata": {},
     "output_type": "execute_result"
    }
   ],
   "source": [
    "pos_labels = np.array(list(map(lambda x: x[1], dls.train_ds)))\n",
    "neg_labels = 1-pos_labels\n",
    "neg_labels"
   ]
  },
  {
   "cell_type": "code",
   "execution_count": 238,
   "id": "c9140c34",
   "metadata": {},
   "outputs": [],
   "source": [
    "L_pos = (pos_labels[None,:]@A)[0,:]\n",
    "L_pos = (L_pos + 1) / (L_pos.sum() + 1)\n",
    "L_neg = (neg_labels[None,:]@A)[0,:]\n",
    "L_neg = (L_neg + 1) / (L_neg.sum() + 1)\n",
    "R = np.log(L_pos / L_neg)"
   ]
  },
  {
   "cell_type": "code",
   "execution_count": 244,
   "id": "32fcada2",
   "metadata": {},
   "outputs": [
    {
     "name": "stdout",
     "output_type": "stream",
     "text": [
      "Highest 10 log-count ratios: [2.5204758  2.5204758  2.58110042 2.6195667  2.63825884 2.63825884\n",
      " 2.63825884 2.74361935 3.02503181 2.95333988]\n",
      "\n",
      "Lowest 10 log-count ratios: [-2.73701957 -2.89117025 -2.69445996 -3.51020946 -2.55469801 -3.08532627\n",
      " -2.8670727  -2.65000819 -2.73701957 -2.65000819]\n"
     ]
    }
   ],
   "source": [
    "n_tokens = 10\n",
    "highest_R = np.argpartition(R, -n_tokens)[-n_tokens:]\n",
    "lowest_R = np.argpartition(R, n_tokens)[:n_tokens]\n",
    "print(f'Highest {n_tokens} log-count ratios: {R[list(highest_R)]}\\n')\n",
    "print(f'Lowest {n_tokens} log-count ratios: {R[list(lowest_R)]}')"
   ]
  },
  {
   "cell_type": "code",
   "execution_count": 247,
   "id": "81379440",
   "metadata": {},
   "outputs": [
    {
     "name": "stdout",
     "output_type": "stream",
     "text": [
      "Pozitivne rijeci: ['vrhunsko', 'kvalitetna', 'prefina', 'svaka', 'vraćamo', 'vidimo', '🔝', 'najboljih', 'pohvale', 'vrhunska']\n",
      "Negativne rijeci: ['umjesto', 'cijenu', 'loše', 'katastrofa', 'bezobrazno', 'loša', 'vise', 'zvjezdice', 'nitko', 'naručili']\n"
     ]
    }
   ],
   "source": [
    "print(\"Pozitivne rijeci:\", [itos[k] for k in highest_R])\n",
    "print(\"Negativne rijeci:\", [itos[k] for k in lowest_R])"
   ]
  },
  {
   "cell_type": "code",
   "execution_count": 249,
   "id": "56ce924d",
   "metadata": {},
   "outputs": [],
   "source": [
    "b = L_pos.sum() / L_neg.sum()"
   ]
  },
  {
   "cell_type": "code",
   "execution_count": 274,
   "id": "8511fd24",
   "metadata": {},
   "outputs": [
    {
     "data": {
      "text/plain": [
       "0.8306878306878307"
      ]
     },
     "execution_count": 274,
     "metadata": {},
     "output_type": "execute_result"
    }
   ],
   "source": [
    "def f(pair):\n",
    "    sent = pair[0]\n",
    "    return R[sent].sum() + b > 0, pair[1]\n",
    "preds = np.array(list(map(f, dls.valid_ds)))\n",
    "(preds[:, 0] == preds[:, 1]).sum() / len(preds)"
   ]
  },
  {
   "cell_type": "code",
   "execution_count": null,
   "id": "a97cdd8a",
   "metadata": {},
   "outputs": [],
   "source": []
  }
 ],
 "metadata": {
  "kernelspec": {
   "display_name": "Python 3 (ipykernel)",
   "language": "python",
   "name": "python3"
  },
  "language_info": {
   "codemirror_mode": {
    "name": "ipython",
    "version": 3
   },
   "file_extension": ".py",
   "mimetype": "text/x-python",
   "name": "python",
   "nbconvert_exporter": "python",
   "pygments_lexer": "ipython3",
   "version": "3.10.9"
  }
 },
 "nbformat": 4,
 "nbformat_minor": 5
}
